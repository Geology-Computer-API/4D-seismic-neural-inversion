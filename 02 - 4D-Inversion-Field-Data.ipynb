{
 "cells": [
  {
   "cell_type": "markdown",
   "metadata": {},
   "source": [
    "# 4D Inversion on Field Data\n",
    "This notebook requires a trained model from the notebook in [`01 - 4D-Pressure-Saturation-Inversion`](01 - 4D-Pressure-Saturation-Inversion.ipynb)."
   ]
  },
  {
   "cell_type": "code",
   "execution_count": null,
   "metadata": {},
   "outputs": [],
   "source": [
    "import os\n",
    "\n",
    "import matplotlib.pyplot as plt\n",
    "%matplotlib inline\n",
    "\n",
    "import pandas as pd\n",
    "import numpy as np\n",
    "\n",
    "from scipy.io import loadmat, savemat\n",
    "\n",
    "from sklearn.model_selection import train_test_split\n",
    "%load_ext autoreload\n",
    "%autoreload 2"
   ]
  },
  {
   "cell_type": "code",
   "execution_count": null,
   "metadata": {},
   "outputs": [],
   "source": [
    "from numpy.random import seed\n",
    "seed(42)\n",
    "from tensorflow import set_random_seed\n",
    "set_random_seed(42)"
   ]
  },
  {
   "cell_type": "markdown",
   "metadata": {},
   "source": [
    "# Data\n",
    "This notebook evaluates the network on field data."
   ]
  },
  {
   "cell_type": "code",
   "execution_count": null,
   "metadata": {},
   "outputs": [],
   "source": [
    "def data_gen(timestep):\n",
    "    seed(42)\n",
    "    set_random_seed(42)\n",
    "    #suffixes = [\"\"]\n",
    "    location = \"data\"\n",
    "    filename = \"Seis2PS_NN_training_input\"\n",
    "    pore_volume = loadmat(os.path.join(location,filename))[\"Pore_volume\"]\n",
    "    location = \"data\"\n",
    "    filename = \"Seis2PS_NN_training_input_obs\"\n",
    "    seis_ps = loadmat(os.path.join(location,filename))\n",
    "    pore_volume\n",
    "    headers = [\"dSNA_nr\", \"dSNA_md\", \"dSNA_fr\"]\n",
    "    out_test = pd.DataFrame()\n",
    "    tost = pd.DataFrame()\n",
    "    for x in headers:\n",
    "        ravel_data = seis_ps[x][0][timestep]\n",
    "        out_test[x] = ravel_data.ravel()\n",
    "    \n",
    "    out_test[\"Pore_volume\"] = pore_volume.ravel()\n",
    "    \n",
    "    \n",
    "    \n",
    "    return out_test\n",
    "data_gen(1).describe()"
   ]
  },
  {
   "cell_type": "code",
   "execution_count": null,
   "metadata": {},
   "outputs": [],
   "source": [
    "import tensorflow as tf\n",
    "import keras\n",
    "import keras.backend as K\n",
    "from keras.models import Model\n",
    "from keras.layers import Input, Dense, AlphaDropout, Dropout\n",
    "from keras import regularizers\n",
    "from keras import optimizers \n",
    "from keras import callbacks\n",
    "\n",
    "from keras_tqdm import TQDMNotebookCallback \n",
    "\n",
    "from hyperopt import Trials, STATUS_OK, tpe\n",
    "from hyperas import optim\n",
    "from hyperas.distributions import choice, quniform, uniform, loguniform\n",
    "\n",
    "from sklearn.metrics import r2_score\n",
    "%autoreload 2"
   ]
  },
  {
   "cell_type": "code",
   "execution_count": null,
   "metadata": {},
   "outputs": [],
   "source": [
    "def r_square(y_true, y_pred):\n",
    "    from keras import backend as K\n",
    "    SS_res =  K.sum(K.square(y_true - y_pred)) \n",
    "    SS_tot = K.sum(K.square(y_true - K.mean(y_true))) \n",
    "    return (1 - SS_res/(SS_tot + K.epsilon()))\n",
    "\n",
    "def r_square_loss(y_true, y_pred):\n",
    "    SS_res =  K.sum(K.square(y_true - y_pred)) \n",
    "    SS_tot = K.sum(K.square(y_true - K.mean(y_true))) \n",
    "    return 1 - ( 1 - SS_res/(SS_tot + K.epsilon()))\n",
    "\n",
    "def huber_loss(y_true, y_pred, clip_delta=.35):\n",
    "    error = y_true - y_pred\n",
    "    cond  = tf.keras.backend.abs(error) < clip_delta\n",
    "    squared_loss = 0.5 * tf.keras.backend.square(error)\n",
    "    linear_loss  = clip_delta * (tf.keras.backend.abs(error) - 0.5 * clip_delta)\n",
    "    \n",
    "    return tf.where(cond, squared_loss, linear_loss)"
   ]
  },
  {
   "cell_type": "code",
   "execution_count": null,
   "metadata": {},
   "outputs": [],
   "source": [
    "experiment = \"publication\""
   ]
  },
  {
   "cell_type": "markdown",
   "metadata": {},
   "source": [
    "## Model Loading\n",
    "We load the noise-trained model. We have to provide the custom_objects `r_square`, `huber_loss` for the experiments."
   ]
  },
  {
   "cell_type": "code",
   "execution_count": null,
   "metadata": {
    "scrolled": true
   },
   "outputs": [],
   "source": [
    "model = keras.models.load_model(\"best.hd5\", custom_objects={'r_square': r_square, 'huber_loss': huber_loss})"
   ]
  },
  {
   "cell_type": "code",
   "execution_count": null,
   "metadata": {},
   "outputs": [],
   "source": [
    "model.summary()"
   ]
  },
  {
   "cell_type": "code",
   "execution_count": null,
   "metadata": {},
   "outputs": [],
   "source": [
    "q = 3\n",
    "X_test = data_gen(q)"
   ]
  },
  {
   "cell_type": "code",
   "execution_count": null,
   "metadata": {},
   "outputs": [],
   "source": [
    "preddata = model.predict(X_test)"
   ]
  },
  {
   "cell_type": "markdown",
   "metadata": {},
   "source": [
    "## Plotting\n",
    "Plot the resulting inversion and the networks."
   ]
  },
  {
   "cell_type": "code",
   "execution_count": null,
   "metadata": {
    "scrolled": false
   },
   "outputs": [],
   "source": [
    "for q in range(3,4):\n",
    "    X_test = data_gen(q)\n",
    "    preddata = model.predict([X_test[\"dSNA_nr\"],X_test[\"dSNA_md\"],X_test[\"dSNA_fr\"],X_test[\"Pore_volume\"]])\n",
    "    fig = plt.figure(figsize=(15, 10))\n",
    "    plt.subplot(231)\n",
    "    vmax=np.max(np.abs(seis_ps[\"dSNA_nr\"][0][q]))\n",
    "    plt.imshow(seis_ps[\"dSNA_nr\"][0][q], cmap=\"seismic_r\", vmin=-vmax, vmax=vmax,  aspect='equal')\n",
    "    plt.colorbar()\n",
    "    plt.title(\"Near\")\n",
    "    plt.subplot(232)\n",
    "    vmax=np.max(np.abs(seis_ps[\"dSNA_md\"][0][q]))\n",
    "    plt.imshow(seis_ps[\"dSNA_md\"][0][q], cmap=\"seismic_r\", vmin=-vmax, vmax=vmax,  aspect='equal')\n",
    "    plt.colorbar()\n",
    "    plt.title(\"Mid\")\n",
    "    plt.subplot(233)\n",
    "    vmax=np.max(np.abs(seis_ps[\"dSNA_fr\"][0][q]))\n",
    "    plt.imshow(seis_ps[\"dSNA_fr\"][0][q], cmap=\"seismic_r\", vmin=-vmax, vmax=vmax,  aspect='equal')\n",
    "    plt.colorbar()\n",
    "    plt.title(\"Far\")\n",
    "    \n",
    "    ax0 = plt.subplot(234)\n",
    "    data = preddata[0].reshape(seis_ps[\"dSNA_md\"][0][0].shape)\n",
    "    vmax = np.nanmax(np.abs(data))\n",
    "    im0 = ax0.imshow(data, cmap=\"seismic\", vmin=-vmax, vmax=vmax, aspect='equal')\n",
    "    ax0.set_title(\"Neural Network dP \"+experiment)\n",
    "    fig.colorbar(im0, ax=ax0)\n",
    "    \n",
    "    ax1 = plt.subplot(235)\n",
    "    data = preddata[1].reshape(seis_ps[\"dSNA_md\"][0][0].shape)\n",
    "    vmax = np.nanmax(np.abs(data))\n",
    "    im1 = ax1.imshow(data, cmap=\"seismic_r\", vmin=-vmax, vmax=vmax, aspect='equal')\n",
    "    ax1.set_title(\"Neural Network dSw\")\n",
    "    fig.colorbar(im1, ax=ax1)\n",
    "    \n",
    "    \n",
    "    ax2 = plt.subplot(236)\n",
    "    data = preddata[2].reshape(seis_ps[\"dSNA_md\"][0][0].shape)\n",
    "    vmax = np.nanmax(np.abs(data))\n",
    "    im2 = ax2.imshow(data, cmap=\"seismic\", vmin=-vmax, vmax=vmax, aspect='equal')\n",
    "    ax2.set_title(\"Neural Network dSg\")\n",
    "    fig.colorbar(im2, ax=ax2)\n",
    "    \n",
    "    blerg = \"obs\"\n",
    "    mat_dict = {blerg+\"dP_nn_data\": preddata[0].reshape(seis_ps[\"dSNA_md\"][0][0].shape),\n",
    "                blerg+\"dSw_nn_data\": preddata[1].reshape(seis_ps[\"dSNA_md\"][0][0].shape),\n",
    "                blerg+\"dSg_nn_data\": preddata[2].reshape(seis_ps[\"dSNA_md\"][0][0].shape),\n",
    "                blerg+\"near\": seis_ps[\"dSNA_nr\"][0][q],\n",
    "                blerg+\"mid\": seis_ps[\"dSNA_md\"][0][q],\n",
    "                blerg+\"far\": seis_ps[\"dSNA_fr\"][0][q],}\n",
    "    savemat('matlab/'+blerg+'.mat', mat_dict)\n",
    "    \n",
    "    fig.savefig(\"Observed-vae-gradient-basemod2-timestep\"+str(q)+\".png\")\n",
    "    fig.show()"
   ]
  },
  {
   "cell_type": "code",
   "execution_count": null,
   "metadata": {},
   "outputs": [],
   "source": [
    "from keras.utils import plot_model\n",
    "plot_model(model, to_file='model.png', show_shapes=True)"
   ]
  },
  {
   "cell_type": "code",
   "execution_count": null,
   "metadata": {},
   "outputs": [],
   "source": [
    "from IPython.display import SVG\n",
    "from keras.utils.vis_utils import model_to_dot\n",
    "\n",
    "SVG(model_to_dot(model).create(prog='dot', format='svg'))"
   ]
  },
  {
   "cell_type": "code",
   "execution_count": null,
   "metadata": {},
   "outputs": [],
   "source": [
    "X_test.shape"
   ]
  },
  {
   "cell_type": "code",
   "execution_count": null,
   "metadata": {},
   "outputs": [],
   "source": [
    "preddata[0].shape"
   ]
  },
  {
   "cell_type": "code",
   "execution_count": null,
   "metadata": {},
   "outputs": [],
   "source": [
    "location = \"data\"\n",
    "filename = \"Seis2PS_NN_training_input\"\n",
    "pore_volume = loadmat(os.path.join(location,filename))[\"Pore_volume\"]"
   ]
  },
  {
   "cell_type": "code",
   "execution_count": null,
   "metadata": {},
   "outputs": [],
   "source": [
    "location = \"data\"\n",
    "filename = \"Seis2PS_NN_training_input_obs\"\n",
    "seis_ps = loadmat(os.path.join(location,filename))\n",
    "headers = list(seis_ps.keys())[3:]\n",
    "plt.imshow(pore_volume)"
   ]
  },
  {
   "cell_type": "code",
   "execution_count": null,
   "metadata": {},
   "outputs": [],
   "source": [
    "seis_ps[\"dSNA_nr\"][0][0].shape"
   ]
  },
  {
   "cell_type": "code",
   "execution_count": null,
   "metadata": {},
   "outputs": [],
   "source": []
  },
  {
   "cell_type": "code",
   "execution_count": null,
   "metadata": {
    "scrolled": false
   },
   "outputs": [],
   "source": [
    "plt.figure(figsize=(15,20))\n",
    "plt.subplot(2, 2, 1)\n",
    "vmax=np.max(np.abs(seis_ps[\"dSNA_nr\"][0][q]))\n",
    "plt.imshow(seis_ps[\"dSNA_nr\"][0][q], cmap=\"seismic_r\", vmin=-vmax, vmax=vmax,  aspect='auto')\n",
    "plt.colorbar()\n",
    "plt.title(\"Near\")\n",
    "plt.subplot(2, 2, 2)\n",
    "vmax=np.max(np.abs(seis_ps[\"dSNA_md\"][0][q]))\n",
    "plt.imshow(seis_ps[\"dSNA_md\"][0][q], cmap=\"seismic_r\", vmin=-vmax, vmax=vmax,  aspect='auto')\n",
    "plt.colorbar()\n",
    "plt.title(\"Mid\")\n",
    "plt.subplot(2, 2, 3)\n",
    "vmax=np.max(np.abs(seis_ps[\"dSNA_fr\"][0][q]))\n",
    "plt.imshow(seis_ps[\"dSNA_fr\"][0][q], cmap=\"seismic_r\", vmin=-vmax, vmax=vmax,  aspect='auto')\n",
    "plt.colorbar()\n",
    "plt.title(\"Far\")\n",
    "plt.subplot(2, 2, 4)\n",
    "vmax=np.nanmax(seis_ps[\"Pore_volume\"])\n",
    "plt.imshow(seis_ps[\"Pore_volume\"], cmap=\"seismic_r\", vmin=-vmax, vmax=vmax,  aspect='auto')\n",
    "plt.colorbar()\n",
    "plt.title(\"Pore Volume\")\n",
    "plt.savefig(\"Seismic-input.png\")\n",
    "plt.show()"
   ]
  },
  {
   "cell_type": "code",
   "execution_count": null,
   "metadata": {},
   "outputs": [],
   "source": []
  }
 ],
 "metadata": {
  "kernelspec": {
   "display_name": "Python [default]",
   "language": "python",
   "name": "python3"
  },
  "language_info": {
   "codemirror_mode": {
    "name": "ipython",
    "version": 3
   },
   "file_extension": ".py",
   "mimetype": "text/x-python",
   "name": "python",
   "nbconvert_exporter": "python",
   "pygments_lexer": "ipython3",
   "version": "3.6.4"
  }
 },
 "nbformat": 4,
 "nbformat_minor": 2
}
